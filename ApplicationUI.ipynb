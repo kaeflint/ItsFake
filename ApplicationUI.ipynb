{
 "cells": [
  {
   "cell_type": "code",
   "execution_count": 1,
   "metadata": {},
   "outputs": [
    {
     "name": "stderr",
     "output_type": "stream",
     "text": [
      "[nltk_data] Downloading package stopwords to /home/jojo89/nltk_data...\n",
      "[nltk_data]   Package stopwords is already up-to-date!\n"
     ]
    }
   ],
   "source": [
    "import warnings\n",
    "warnings.simplefilter(\"ignore\")\n",
    "from utils.helpers import *\n",
    "from Evaluator import *\n",
    "import numpy as np\n",
    "from collections import Counter\n",
    "import matplotlib.pyplot as plt\n",
    "from ipywidgets import interactive\n",
    "from IPython.display import display\n",
    "import ipywidgets as widets\n",
    "%matplotlib inline\n",
    "pred_model= PredictionModel(False,)"
   ]
  },
  {
   "cell_type": "code",
   "execution_count": null,
   "metadata": {},
   "outputs": [],
   "source": [
    "# UI Components\n",
    "lbl_title = widets.Label(value='Enter Title: ')\n",
    "title_box = widets.Text()\n",
    "\n",
    "lbl_content = widets.Label(value='Enter Content: ',)\n",
    "content_box = widets.Textarea(layout=widets.Layout(width='460px',height='350px'))\n",
    "btn_send = widets.Button(description='Submit')\n",
    "btn_send_out = widets.Output()\n",
    "ttl_widget= widets.Label(value='Fake News Detector',layout=widets.Layout(margin='0px 60px',font_weight='large'))\n",
    "ttl_widget.style.font_weight='large'\n",
    "\n",
    "# Add two progressbars to show the probability scores\n",
    "lbl_final_l= widets.Label(value='Label: ')\n",
    "lbl_final_label= widets.Label(value='')\n",
    "real_float= widets.FloatProgress(min=0.0,max=1.0,)\n",
    "real_float.style.bar_color='green'\n",
    "\n",
    "fake_float= widets.FloatProgress(min=0.0,max=1.0,)\n",
    "fake_float.style.bar_color='red'\n",
    "results_status=widets.VBox([widets.HBox([lbl_final_l,lbl_final_label])\n",
    "    ,\n",
    "    widets.HBox([widets.Label(value='Real  '),real_float]),\n",
    "widets.HBox([widets.Label(value='Fake  '),fake_float])])\n",
    "results_status.layout.display='hidden'\n",
    "\n",
    "empty_lbl = widets.Label(value='Please provide the Title and Text of the article')\n",
    "empty_lbl.layout.display='hidden'"
   ]
  },
  {
   "cell_type": "code",
   "execution_count": null,
   "metadata": {},
   "outputs": [],
   "source": [
    "def getJointLabels(predictions,content_type='news content'):\n",
    "    labels = []\n",
    "    probs=[]\n",
    "    if type(predictions)!=list:\n",
    "        predictions = [predictions]\n",
    "    for pred in predictions:\n",
    "        if pred is None:\n",
    "            continue\n",
    "        if type(pred) == list:\n",
    "            for p in pred:\n",
    "                labels.append(p['labels'])\n",
    "                if type(p['probability_scores'])!=str:\n",
    "                    probs.append(p['probability_scores'])\n",
    "        else:\n",
    "            labels.append(pred['labels'])\n",
    "            if type(pred['probability_scores'])!=str:\n",
    "                    probs.append(pred['probability_scores'])\n",
    "    joint_label = Counter(labels).most_common(1)[0][0]\n",
    "    \n",
    "    #print(f\"The given {content_type} is: {joint_label}\")\n",
    "    try:\n",
    "        probs= np.array(probs)\n",
    "        probs=np.mean(probs,0)\n",
    "        #print(f'Chances of being fake is: {probs[0][0]}')\n",
    "    except:\n",
    "        pass\n",
    "    return joint_label,probs\n",
    "def detecting_fake_news(title,text):  \n",
    "    content_prediction=title_prediction=text_prediction = None\n",
    "    if title.strip()!='':\n",
    "        title_prediction= pred_model.predict(title,text_type='title',return_all_models=False)\n",
    "        \n",
    "    # Make Prediction Based on only the text\n",
    "    if text.strip()!='':\n",
    "        text_prediction= pred_model.predict(text,text_type='text',return_all_models=False)\n",
    "        \n",
    "    #Make prediction based on the text and title\n",
    "    if title.strip()!='' and text.strip()!='':\n",
    "        content_prediction = pred_model.predict(title+' '+text,text_type='content',return_all_models=False)\n",
    "        \n",
    "    label,prob=getJointLabels([content_prediction,\n",
    "                                   title_prediction,text_prediction],\n",
    "                                  content_type='news content')\n",
    "    \n",
    "    return label,prob\n",
    "\n",
    "# Handle the onclick operation\n",
    "def generateLabel(b):\n",
    "    \n",
    "    with btn_send_out:\n",
    "        results_status.layout.display='hidden'\n",
    "        empty_lbl.layout.display ='hidden'\n",
    "        real_float.value=0.0\n",
    "        fake_float.value=0.0\n",
    "        if content_box.value.strip()!='':\n",
    "            label,prob= detecting_fake_news(title_box.value,\n",
    "                                            content_box.value)\n",
    "            real_float.value=prob[0][1]\n",
    "            fake_float.value= prob[0][0]\n",
    "            lbl_final_label.value= label.upper()\n",
    "            results_status.layout.display='visible'\n",
    "        else:\n",
    "            lbl_final_label.value= ''\n",
    "            results_status.layout.display='hidden'\n",
    "            empty_lbl.layout.display='visible'\n",
    "        \n",
    "        \n",
    "btn_send.on_click(generateLabel)\n",
    "btn_send.layout= widets.Layout(margin='10px 180px',)"
   ]
  },
  {
   "cell_type": "code",
   "execution_count": null,
   "metadata": {},
   "outputs": [],
   "source": [
    "# Show the UI for interaction\n",
    "widets.VBox([ttl_widget,\n",
    "             lbl_title,title_box,lbl_content,\n",
    "             content_box,btn_send,btn_send_out,results_status],\n",
    "            \n",
    "            layout=widets.Layout(margin='0px 190px',))"
   ]
  },
  {
   "cell_type": "code",
   "execution_count": null,
   "metadata": {},
   "outputs": [],
   "source": []
  },
  {
   "cell_type": "code",
   "execution_count": null,
   "metadata": {},
   "outputs": [],
   "source": []
  },
  {
   "cell_type": "code",
   "execution_count": null,
   "metadata": {
    "scrolled": false
   },
   "outputs": [],
   "source": []
  },
  {
   "cell_type": "code",
   "execution_count": null,
   "metadata": {},
   "outputs": [],
   "source": [
    "#widets.VBox([widets.HBox([lbl_title,title_box]),widets.HBox([lbl_content,content_box]),btn_send])\n",
    "#display(btn_send,btn_send_out)"
   ]
  },
  {
   "cell_type": "code",
   "execution_count": null,
   "metadata": {},
   "outputs": [],
   "source": []
  },
  {
   "cell_type": "code",
   "execution_count": null,
   "metadata": {},
   "outputs": [],
   "source": []
  },
  {
   "cell_type": "code",
   "execution_count": null,
   "metadata": {},
   "outputs": [],
   "source": []
  },
  {
   "cell_type": "code",
   "execution_count": null,
   "metadata": {},
   "outputs": [],
   "source": []
  },
  {
   "cell_type": "code",
   "execution_count": null,
   "metadata": {},
   "outputs": [],
   "source": [
    "#margin: 0px 60px;font-size:large;font-weight:bolder\""
   ]
  },
  {
   "cell_type": "code",
   "execution_count": null,
   "metadata": {},
   "outputs": [],
   "source": []
  }
 ],
 "metadata": {
  "kernelspec": {
   "display_name": "Python 3",
   "language": "python",
   "name": "python3"
  },
  "language_info": {
   "codemirror_mode": {
    "name": "ipython",
    "version": 3
   },
   "file_extension": ".py",
   "mimetype": "text/x-python",
   "name": "python",
   "nbconvert_exporter": "python",
   "pygments_lexer": "ipython3",
   "version": "3.8.3"
  }
 },
 "nbformat": 4,
 "nbformat_minor": 4
}
