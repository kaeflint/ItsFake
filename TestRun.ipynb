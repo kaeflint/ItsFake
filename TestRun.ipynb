{
 "cells": [
  {
   "cell_type": "code",
   "execution_count": 1,
   "metadata": {},
   "outputs": [
    {
     "name": "stderr",
     "output_type": "stream",
     "text": [
      "[nltk_data] Downloading package stopwords to /home/jojo89/nltk_data...\n",
      "[nltk_data]   Package stopwords is already up-to-date!\n"
     ]
    }
   ],
   "source": [
    "from Evaluator import *\n",
    "import numpy as np"
   ]
  },
  {
   "cell_type": "code",
   "execution_count": 2,
   "metadata": {},
   "outputs": [
    {
     "name": "stdout",
     "output_type": "stream",
     "text": [
      "Model(s) loaded\n"
     ]
    }
   ],
   "source": [
    "pred_model= PredictionModel(True,)"
   ]
  },
  {
   "cell_type": "code",
   "execution_count": 3,
   "metadata": {},
   "outputs": [],
   "source": [
    "title= 'Eminem Terrified As Daughter Begins Dating Man Raised On His Music'\n",
    "body ='''\n",
    "ROCHESTER, MI—Hip-hop artist Marshall Mathers, a.k.a. Eminem, said he was left wholly terrified today after meeting his daughter Hailie’s new boyfriend Justin Denham, an 18-year-old who was reportedly raised on the rapper’s music.\n",
    "\n",
    "Saying he could barely fathom the thought of Hailie, 17, with a man who ever enjoyed listening to, or was inspired by, his often misogynistic and violent lyrics, Eminem, 40, claimed he was disturbed from the second Denham said he was “a huge fan” of all of the rapper’s seven albums.\n",
    "\n",
    "“Justin said I was his favorite artist when he was growing up, and now he wants to go out with my little girl,” said Eminem, telling reporters he didn’t even want to imagine what Denham’s views on relationships could possibly entail given his self-professed love of albums that include songs about mutilating women. “Honestly, I don’t really know what I’m supposed to do here. How am I supposed to let Hailie go out with a guy who says I was a huge influence on him and all of his friends?”\n",
    "\n",
    "“I mean, this guy’s probably listened to my song ‘Kim,’” Eminem continued. “I rapped about cutting my wife’s throat and then driving around with her in my trunk in that song. Jesus.”\n",
    "'''"
   ]
  },
  {
   "cell_type": "code",
   "execution_count": 4,
   "metadata": {},
   "outputs": [],
   "source": [
    "return_all=False"
   ]
  },
  {
   "cell_type": "code",
   "execution_count": 5,
   "metadata": {},
   "outputs": [],
   "source": [
    "title_prediction= pred_model.predict(title,text_type='title',return_all_models=return_all)\n",
    "# Make Prediction Based on only the text\n",
    "text_prediction= pred_model.predict(body,text_type='text',return_all_models=return_all)\n",
    "#Make prediction based on the text and title\n",
    "content_prediction = pred_model.predict(title+' '+body,text_type='content',return_all_models=return_all)"
   ]
  },
  {
   "cell_type": "code",
   "execution_count": 6,
   "metadata": {},
   "outputs": [
    {
     "data": {
      "text/plain": [
       "{'probability_scores': array([[3.66482404e-05, 9.99963352e-01]]),\n",
       " 'labels': 'REAL',\n",
       " 'model': 'MultinormalNB'}"
      ]
     },
     "execution_count": 6,
     "metadata": {},
     "output_type": "execute_result"
    }
   ],
   "source": [
    "content_prediction"
   ]
  },
  {
   "cell_type": "code",
   "execution_count": null,
   "metadata": {},
   "outputs": [],
   "source": []
  },
  {
   "cell_type": "code",
   "execution_count": 7,
   "metadata": {},
   "outputs": [],
   "source": [
    "from collections import Counter"
   ]
  },
  {
   "cell_type": "code",
   "execution_count": 7,
   "metadata": {},
   "outputs": [
    {
     "name": "stdout",
     "output_type": "stream",
     "text": [
      "The given news content is: REAL\n",
      "Chances of being fake is: 0.003328205635246082\n"
     ]
    }
   ],
   "source": [
    "label,probs=getJointLabels([content_prediction,title_prediction,text_prediction])"
   ]
  },
  {
   "cell_type": "code",
   "execution_count": 8,
   "metadata": {},
   "outputs": [
    {
     "name": "stdout",
     "output_type": "stream",
     "text": [
      "The given news title is: REAL\n",
      "Chances of being fake is: 0.00886987439457568\n"
     ]
    },
    {
     "data": {
      "text/plain": [
       "('REAL', array([[0.00886987, 0.99113013]]))"
      ]
     },
     "execution_count": 8,
     "metadata": {},
     "output_type": "execute_result"
    }
   ],
   "source": [
    "getJointLabels(title_prediction,'news title')"
   ]
  },
  {
   "cell_type": "code",
   "execution_count": null,
   "metadata": {},
   "outputs": [],
   "source": []
  }
 ],
 "metadata": {
  "kernelspec": {
   "display_name": "Python 3",
   "language": "python",
   "name": "python3"
  },
  "language_info": {
   "codemirror_mode": {
    "name": "ipython",
    "version": 3
   },
   "file_extension": ".py",
   "mimetype": "text/x-python",
   "name": "python",
   "nbconvert_exporter": "python",
   "pygments_lexer": "ipython3",
   "version": "3.8.3"
  }
 },
 "nbformat": 4,
 "nbformat_minor": 4
}
